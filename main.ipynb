{
 "cells": [
  {
   "cell_type": "markdown",
   "id": "e09d35a4",
   "metadata": {},
   "source": [
    "# IMDb Movie Review using logistic regression\n",
    "---"
   ]
  },
  {
   "cell_type": "code",
   "execution_count": 1,
   "id": "87911ffb",
   "metadata": {},
   "outputs": [],
   "source": [
    "# %pip install -r requirements.txt"
   ]
  },
  {
   "cell_type": "markdown",
   "id": "536ae359",
   "metadata": {},
   "source": [
    "## Imported Pandas and scikit-learn\n",
    "Pandas for importing csv file and mapping the sentiment to 1 and 0\n",
    "scikit-learn is the main backbone for this logistic regression, accuracy_score and as well as Countvectorizer\n",
    "\n",
    "---"
   ]
  },
  {
   "cell_type": "code",
   "execution_count": 2,
   "id": "53fc7751",
   "metadata": {},
   "outputs": [],
   "source": [
    "import pandas as pd\n",
    "from sklearn.model_selection import train_test_split\n",
    "from sklearn.feature_extraction.text import CountVectorizer\n",
    "from sklearn.linear_model import LogisticRegression\n",
    "from sklearn.metrics import accuracy_score"
   ]
  },
  {
   "cell_type": "markdown",
   "id": "5f628702",
   "metadata": {},
   "source": [
    "# Pandas Used\n",
    "Used pandas to open csv file and marking X as the array of the reviews given and Y as the 0 or 1 based on if its positive or negative respectively\n",
    "\n",
    "---"
   ]
  },
  {
   "cell_type": "code",
   "execution_count": 3,
   "id": "c4ca7ccc",
   "metadata": {},
   "outputs": [],
   "source": [
    "df = pd.read_csv(\"IMDB Dataset.csv\")\n",
    "X = df['review']\n",
    "y = df['sentiment'].map({'positive': 1, 'negative': 0})"
   ]
  },
  {
   "cell_type": "markdown",
   "id": "63b48d0c",
   "metadata": {},
   "source": [
    "# Vectorization Used\n",
    "\n",
    "Used sckilearn's module which tries to implement the vectorisation of the strings so its easier for the ML to learn. Here by using stop_words='english', i am trying to remove common words to be added to the vectorization.\n",
    "\n",
    "---"
   ]
  },
  {
   "cell_type": "code",
   "execution_count": 4,
   "id": "97fe8354",
   "metadata": {},
   "outputs": [],
   "source": [
    "vectorizer = CountVectorizer(stop_words='english')\n",
    "X_vec = vectorizer.fit_transform(X)"
   ]
  },
  {
   "cell_type": "markdown",
   "id": "c88c2a0e",
   "metadata": {},
   "source": [
    "# Training and testing data split\n",
    "\n",
    "Using skitlearn's model, we splited the data in the ration 2:8 for 20% of data to be used for testing and others for training ig. Random set is set to 2 so that the code can be repeatable and still not change (setting the random seed).\n",
    "\n",
    "---"
   ]
  },
  {
   "cell_type": "code",
   "execution_count": 5,
   "id": "1b5d30d5",
   "metadata": {},
   "outputs": [],
   "source": [
    "X_train, X_test, y_train, y_test = train_test_split(\n",
    "    X_vec, y, test_size=0.2, random_state=2\n",
    ")"
   ]
  },
  {
   "cell_type": "markdown",
   "id": "7d8cb27c",
   "metadata": {},
   "source": [
    "# Logistic Regression\n",
    "\n",
    "Using skitlearn's model, we directly used Logistic regression model and added max_iter as 1050 which means how long should try to find best optimizer, which iteratively try to find the best coeff. and thus find min error. The coeff here is mainly biases and weights. \n",
    "\n",
    "---"
   ]
  },
  {
   "cell_type": "code",
   "execution_count": null,
   "id": "38c8de75",
   "metadata": {},
   "outputs": [],
   "source": [
    "model = LogisticRegression(max_iter=1050)\n",
    "model.fit(X_train, y_train)"
   ]
  },
  {
   "cell_type": "markdown",
   "id": "9de675a8",
   "metadata": {},
   "source": [
    "# Precting and accuracy\n",
    "\n",
    "Using skitlearn's model, we try to predict using Logistic regression model and thus try to accuracy percentage!\n",
    "\n",
    "---"
   ]
  },
  {
   "cell_type": "code",
   "execution_count": null,
   "id": "8c0e669b",
   "metadata": {},
   "outputs": [],
   "source": [
    "y_pred = model.predict(X_test)\n",
    "print(\"Accuracy:\", accuracy_score(y_test, y_pred))"
   ]
  }
 ],
 "metadata": {
  "kernelspec": {
   "display_name": "ennv.venv (3.10.12)",
   "language": "python",
   "name": "python3"
  },
  "language_info": {
   "codemirror_mode": {
    "name": "ipython",
    "version": 3
   },
   "file_extension": ".py",
   "mimetype": "text/x-python",
   "name": "python",
   "nbconvert_exporter": "python",
   "pygments_lexer": "ipython3",
   "version": "3.10.12"
  }
 },
 "nbformat": 4,
 "nbformat_minor": 5
}
